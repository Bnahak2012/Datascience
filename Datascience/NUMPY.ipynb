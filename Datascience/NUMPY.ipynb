{
 "cells": [
  {
   "cell_type": "code",
   "execution_count": 4,
   "id": "582d5974",
   "metadata": {},
   "outputs": [
    {
     "name": "stdout",
     "output_type": "stream",
     "text": [
      "Requirement already satisfied: numpy==1.26.4 in c:\\users\\biswa\\anaconda3\\lib\\site-packages (1.26.4)\n"
     ]
    }
   ],
   "source": [
    "# !pip install numpy==1.26.4\n",
    "# !pip install --upgrade pip"
   ]
  },
  {
   "cell_type": "code",
   "execution_count": 5,
   "id": "e74c5e36",
   "metadata": {},
   "outputs": [],
   "source": [
    "import pandas as pd\n",
    "import numpy as np"
   ]
  },
  {
   "cell_type": "code",
   "execution_count": 2,
   "id": "95c53b7c",
   "metadata": {},
   "outputs": [
    {
     "data": {
      "text/plain": [
       "'1.26.4'"
      ]
     },
     "execution_count": 2,
     "metadata": {},
     "output_type": "execute_result"
    }
   ],
   "source": [
    "import sys\n",
    "np.__version__"
   ]
  },
  {
   "cell_type": "code",
   "execution_count": 99,
   "id": "3ff6f329",
   "metadata": {},
   "outputs": [],
   "source": [
    "rng = np.random.default_rng(seed=42)\n",
    "data  = rng.random((10,10))"
   ]
  },
  {
   "cell_type": "code",
   "execution_count": 100,
   "id": "f838c407",
   "metadata": {},
   "outputs": [],
   "source": [
    "# rng.integers(0,10,8)"
   ]
  },
  {
   "cell_type": "code",
   "execution_count": 101,
   "id": "1200204b",
   "metadata": {},
   "outputs": [],
   "source": [
    "# rng.choice(df.index,3)"
   ]
  },
  {
   "cell_type": "code",
   "execution_count": 102,
   "id": "1a68d800",
   "metadata": {},
   "outputs": [],
   "source": [
    "df = pd.DataFrame(data = data , columns = list('abcdefghij'))"
   ]
  },
  {
   "cell_type": "code",
   "execution_count": 103,
   "id": "61f08efd",
   "metadata": {},
   "outputs": [
    {
     "data": {
      "text/html": [
       "<div>\n",
       "<style scoped>\n",
       "    .dataframe tbody tr th:only-of-type {\n",
       "        vertical-align: middle;\n",
       "    }\n",
       "\n",
       "    .dataframe tbody tr th {\n",
       "        vertical-align: top;\n",
       "    }\n",
       "\n",
       "    .dataframe thead th {\n",
       "        text-align: right;\n",
       "    }\n",
       "</style>\n",
       "<table border=\"1\" class=\"dataframe\">\n",
       "  <thead>\n",
       "    <tr style=\"text-align: right;\">\n",
       "      <th></th>\n",
       "      <th>a</th>\n",
       "      <th>b</th>\n",
       "      <th>c</th>\n",
       "      <th>d</th>\n",
       "      <th>e</th>\n",
       "      <th>f</th>\n",
       "      <th>g</th>\n",
       "      <th>h</th>\n",
       "      <th>i</th>\n",
       "      <th>j</th>\n",
       "    </tr>\n",
       "  </thead>\n",
       "  <tbody>\n",
       "    <tr>\n",
       "      <th>0</th>\n",
       "      <td>0.773956</td>\n",
       "      <td>0.438878</td>\n",
       "      <td>0.858598</td>\n",
       "      <td>0.697368</td>\n",
       "      <td>0.094177</td>\n",
       "      <td>0.975622</td>\n",
       "      <td>0.761140</td>\n",
       "      <td>0.786064</td>\n",
       "      <td>0.128114</td>\n",
       "      <td>0.450386</td>\n",
       "    </tr>\n",
       "    <tr>\n",
       "      <th>1</th>\n",
       "      <td>0.370798</td>\n",
       "      <td>0.926765</td>\n",
       "      <td>0.643865</td>\n",
       "      <td>0.822762</td>\n",
       "      <td>0.443414</td>\n",
       "      <td>0.227239</td>\n",
       "      <td>0.554585</td>\n",
       "      <td>0.063817</td>\n",
       "      <td>0.827631</td>\n",
       "      <td>0.631664</td>\n",
       "    </tr>\n",
       "    <tr>\n",
       "      <th>2</th>\n",
       "      <td>0.758088</td>\n",
       "      <td>0.354526</td>\n",
       "      <td>0.970698</td>\n",
       "      <td>0.893121</td>\n",
       "      <td>0.778383</td>\n",
       "      <td>0.194639</td>\n",
       "      <td>0.466721</td>\n",
       "      <td>0.043804</td>\n",
       "      <td>0.154289</td>\n",
       "      <td>0.683049</td>\n",
       "    </tr>\n",
       "    <tr>\n",
       "      <th>3</th>\n",
       "      <td>0.744762</td>\n",
       "      <td>0.967510</td>\n",
       "      <td>0.325825</td>\n",
       "      <td>0.370460</td>\n",
       "      <td>0.469556</td>\n",
       "      <td>0.189471</td>\n",
       "      <td>0.129922</td>\n",
       "      <td>0.475705</td>\n",
       "      <td>0.226909</td>\n",
       "      <td>0.669814</td>\n",
       "    </tr>\n",
       "    <tr>\n",
       "      <th>4</th>\n",
       "      <td>0.437152</td>\n",
       "      <td>0.832678</td>\n",
       "      <td>0.700265</td>\n",
       "      <td>0.312367</td>\n",
       "      <td>0.832260</td>\n",
       "      <td>0.804764</td>\n",
       "      <td>0.387478</td>\n",
       "      <td>0.288328</td>\n",
       "      <td>0.682496</td>\n",
       "      <td>0.139752</td>\n",
       "    </tr>\n",
       "    <tr>\n",
       "      <th>5</th>\n",
       "      <td>0.199908</td>\n",
       "      <td>0.007362</td>\n",
       "      <td>0.786924</td>\n",
       "      <td>0.664851</td>\n",
       "      <td>0.705165</td>\n",
       "      <td>0.780729</td>\n",
       "      <td>0.458916</td>\n",
       "      <td>0.568741</td>\n",
       "      <td>0.139797</td>\n",
       "      <td>0.114530</td>\n",
       "    </tr>\n",
       "    <tr>\n",
       "      <th>6</th>\n",
       "      <td>0.668403</td>\n",
       "      <td>0.471096</td>\n",
       "      <td>0.565236</td>\n",
       "      <td>0.764999</td>\n",
       "      <td>0.634718</td>\n",
       "      <td>0.553579</td>\n",
       "      <td>0.559207</td>\n",
       "      <td>0.303950</td>\n",
       "      <td>0.030818</td>\n",
       "      <td>0.436717</td>\n",
       "    </tr>\n",
       "    <tr>\n",
       "      <th>7</th>\n",
       "      <td>0.214585</td>\n",
       "      <td>0.408529</td>\n",
       "      <td>0.853403</td>\n",
       "      <td>0.233939</td>\n",
       "      <td>0.058303</td>\n",
       "      <td>0.281384</td>\n",
       "      <td>0.293594</td>\n",
       "      <td>0.661917</td>\n",
       "      <td>0.557032</td>\n",
       "      <td>0.783898</td>\n",
       "    </tr>\n",
       "    <tr>\n",
       "      <th>8</th>\n",
       "      <td>0.664314</td>\n",
       "      <td>0.406387</td>\n",
       "      <td>0.814020</td>\n",
       "      <td>0.166973</td>\n",
       "      <td>0.022712</td>\n",
       "      <td>0.090048</td>\n",
       "      <td>0.722359</td>\n",
       "      <td>0.461877</td>\n",
       "      <td>0.161272</td>\n",
       "      <td>0.501045</td>\n",
       "    </tr>\n",
       "    <tr>\n",
       "      <th>9</th>\n",
       "      <td>0.152312</td>\n",
       "      <td>0.696320</td>\n",
       "      <td>0.446156</td>\n",
       "      <td>0.381021</td>\n",
       "      <td>0.301512</td>\n",
       "      <td>0.630283</td>\n",
       "      <td>0.361813</td>\n",
       "      <td>0.087650</td>\n",
       "      <td>0.118006</td>\n",
       "      <td>0.961898</td>\n",
       "    </tr>\n",
       "  </tbody>\n",
       "</table>\n",
       "</div>"
      ],
      "text/plain": [
       "          a         b         c         d         e         f         g  \\\n",
       "0  0.773956  0.438878  0.858598  0.697368  0.094177  0.975622  0.761140   \n",
       "1  0.370798  0.926765  0.643865  0.822762  0.443414  0.227239  0.554585   \n",
       "2  0.758088  0.354526  0.970698  0.893121  0.778383  0.194639  0.466721   \n",
       "3  0.744762  0.967510  0.325825  0.370460  0.469556  0.189471  0.129922   \n",
       "4  0.437152  0.832678  0.700265  0.312367  0.832260  0.804764  0.387478   \n",
       "5  0.199908  0.007362  0.786924  0.664851  0.705165  0.780729  0.458916   \n",
       "6  0.668403  0.471096  0.565236  0.764999  0.634718  0.553579  0.559207   \n",
       "7  0.214585  0.408529  0.853403  0.233939  0.058303  0.281384  0.293594   \n",
       "8  0.664314  0.406387  0.814020  0.166973  0.022712  0.090048  0.722359   \n",
       "9  0.152312  0.696320  0.446156  0.381021  0.301512  0.630283  0.361813   \n",
       "\n",
       "          h         i         j  \n",
       "0  0.786064  0.128114  0.450386  \n",
       "1  0.063817  0.827631  0.631664  \n",
       "2  0.043804  0.154289  0.683049  \n",
       "3  0.475705  0.226909  0.669814  \n",
       "4  0.288328  0.682496  0.139752  \n",
       "5  0.568741  0.139797  0.114530  \n",
       "6  0.303950  0.030818  0.436717  \n",
       "7  0.661917  0.557032  0.783898  \n",
       "8  0.461877  0.161272  0.501045  \n",
       "9  0.087650  0.118006  0.961898  "
      ]
     },
     "execution_count": 103,
     "metadata": {},
     "output_type": "execute_result"
    }
   ],
   "source": [
    "df"
   ]
  },
  {
   "cell_type": "code",
   "execution_count": 104,
   "id": "afa4acb9",
   "metadata": {},
   "outputs": [],
   "source": [
    "def split_train_test(df,ratio):\n",
    "    \n",
    "    split_ratio = round(len(df)*ratio)\n",
    "    \n",
    "    train_index = rng.choice(df.index ,split_ratio ,replace = False)\n",
    "    \n",
    "    test_ndex   = np.setdiff1d(df.index , train_index , assume_unique = True)\n",
    "    \n",
    "    train_df = df.iloc[train_index , :]\n",
    "    \n",
    "    test_df  = df.iloc[test_ndex , :]\n",
    "    \n",
    "    return train_df , test_df\n",
    "       "
   ]
  },
  {
   "cell_type": "code",
   "execution_count": 105,
   "id": "d9ff83ec",
   "metadata": {},
   "outputs": [],
   "source": [
    "X_train , X_test = split_train_test(df,0.7)"
   ]
  },
  {
   "cell_type": "code",
   "execution_count": 106,
   "id": "e3a23dc6",
   "metadata": {},
   "outputs": [
    {
     "data": {
      "text/html": [
       "<div>\n",
       "<style scoped>\n",
       "    .dataframe tbody tr th:only-of-type {\n",
       "        vertical-align: middle;\n",
       "    }\n",
       "\n",
       "    .dataframe tbody tr th {\n",
       "        vertical-align: top;\n",
       "    }\n",
       "\n",
       "    .dataframe thead th {\n",
       "        text-align: right;\n",
       "    }\n",
       "</style>\n",
       "<table border=\"1\" class=\"dataframe\">\n",
       "  <thead>\n",
       "    <tr style=\"text-align: right;\">\n",
       "      <th></th>\n",
       "      <th>a</th>\n",
       "      <th>b</th>\n",
       "      <th>c</th>\n",
       "      <th>d</th>\n",
       "      <th>e</th>\n",
       "      <th>f</th>\n",
       "      <th>g</th>\n",
       "      <th>h</th>\n",
       "      <th>i</th>\n",
       "      <th>j</th>\n",
       "    </tr>\n",
       "  </thead>\n",
       "  <tbody>\n",
       "    <tr>\n",
       "      <th>1</th>\n",
       "      <td>0.370798</td>\n",
       "      <td>0.926765</td>\n",
       "      <td>0.643865</td>\n",
       "      <td>0.822762</td>\n",
       "      <td>0.443414</td>\n",
       "      <td>0.227239</td>\n",
       "      <td>0.554585</td>\n",
       "      <td>0.063817</td>\n",
       "      <td>0.827631</td>\n",
       "      <td>0.631664</td>\n",
       "    </tr>\n",
       "    <tr>\n",
       "      <th>3</th>\n",
       "      <td>0.744762</td>\n",
       "      <td>0.967510</td>\n",
       "      <td>0.325825</td>\n",
       "      <td>0.370460</td>\n",
       "      <td>0.469556</td>\n",
       "      <td>0.189471</td>\n",
       "      <td>0.129922</td>\n",
       "      <td>0.475705</td>\n",
       "      <td>0.226909</td>\n",
       "      <td>0.669814</td>\n",
       "    </tr>\n",
       "    <tr>\n",
       "      <th>2</th>\n",
       "      <td>0.758088</td>\n",
       "      <td>0.354526</td>\n",
       "      <td>0.970698</td>\n",
       "      <td>0.893121</td>\n",
       "      <td>0.778383</td>\n",
       "      <td>0.194639</td>\n",
       "      <td>0.466721</td>\n",
       "      <td>0.043804</td>\n",
       "      <td>0.154289</td>\n",
       "      <td>0.683049</td>\n",
       "    </tr>\n",
       "    <tr>\n",
       "      <th>8</th>\n",
       "      <td>0.664314</td>\n",
       "      <td>0.406387</td>\n",
       "      <td>0.814020</td>\n",
       "      <td>0.166973</td>\n",
       "      <td>0.022712</td>\n",
       "      <td>0.090048</td>\n",
       "      <td>0.722359</td>\n",
       "      <td>0.461877</td>\n",
       "      <td>0.161272</td>\n",
       "      <td>0.501045</td>\n",
       "    </tr>\n",
       "    <tr>\n",
       "      <th>6</th>\n",
       "      <td>0.668403</td>\n",
       "      <td>0.471096</td>\n",
       "      <td>0.565236</td>\n",
       "      <td>0.764999</td>\n",
       "      <td>0.634718</td>\n",
       "      <td>0.553579</td>\n",
       "      <td>0.559207</td>\n",
       "      <td>0.303950</td>\n",
       "      <td>0.030818</td>\n",
       "      <td>0.436717</td>\n",
       "    </tr>\n",
       "    <tr>\n",
       "      <th>4</th>\n",
       "      <td>0.437152</td>\n",
       "      <td>0.832678</td>\n",
       "      <td>0.700265</td>\n",
       "      <td>0.312367</td>\n",
       "      <td>0.832260</td>\n",
       "      <td>0.804764</td>\n",
       "      <td>0.387478</td>\n",
       "      <td>0.288328</td>\n",
       "      <td>0.682496</td>\n",
       "      <td>0.139752</td>\n",
       "    </tr>\n",
       "    <tr>\n",
       "      <th>7</th>\n",
       "      <td>0.214585</td>\n",
       "      <td>0.408529</td>\n",
       "      <td>0.853403</td>\n",
       "      <td>0.233939</td>\n",
       "      <td>0.058303</td>\n",
       "      <td>0.281384</td>\n",
       "      <td>0.293594</td>\n",
       "      <td>0.661917</td>\n",
       "      <td>0.557032</td>\n",
       "      <td>0.783898</td>\n",
       "    </tr>\n",
       "  </tbody>\n",
       "</table>\n",
       "</div>"
      ],
      "text/plain": [
       "          a         b         c         d         e         f         g  \\\n",
       "1  0.370798  0.926765  0.643865  0.822762  0.443414  0.227239  0.554585   \n",
       "3  0.744762  0.967510  0.325825  0.370460  0.469556  0.189471  0.129922   \n",
       "2  0.758088  0.354526  0.970698  0.893121  0.778383  0.194639  0.466721   \n",
       "8  0.664314  0.406387  0.814020  0.166973  0.022712  0.090048  0.722359   \n",
       "6  0.668403  0.471096  0.565236  0.764999  0.634718  0.553579  0.559207   \n",
       "4  0.437152  0.832678  0.700265  0.312367  0.832260  0.804764  0.387478   \n",
       "7  0.214585  0.408529  0.853403  0.233939  0.058303  0.281384  0.293594   \n",
       "\n",
       "          h         i         j  \n",
       "1  0.063817  0.827631  0.631664  \n",
       "3  0.475705  0.226909  0.669814  \n",
       "2  0.043804  0.154289  0.683049  \n",
       "8  0.461877  0.161272  0.501045  \n",
       "6  0.303950  0.030818  0.436717  \n",
       "4  0.288328  0.682496  0.139752  \n",
       "7  0.661917  0.557032  0.783898  "
      ]
     },
     "execution_count": 106,
     "metadata": {},
     "output_type": "execute_result"
    }
   ],
   "source": [
    "X_train"
   ]
  },
  {
   "cell_type": "code",
   "execution_count": 107,
   "id": "67d5b3c3",
   "metadata": {},
   "outputs": [
    {
     "data": {
      "text/html": [
       "<div>\n",
       "<style scoped>\n",
       "    .dataframe tbody tr th:only-of-type {\n",
       "        vertical-align: middle;\n",
       "    }\n",
       "\n",
       "    .dataframe tbody tr th {\n",
       "        vertical-align: top;\n",
       "    }\n",
       "\n",
       "    .dataframe thead th {\n",
       "        text-align: right;\n",
       "    }\n",
       "</style>\n",
       "<table border=\"1\" class=\"dataframe\">\n",
       "  <thead>\n",
       "    <tr style=\"text-align: right;\">\n",
       "      <th></th>\n",
       "      <th>a</th>\n",
       "      <th>b</th>\n",
       "      <th>c</th>\n",
       "      <th>d</th>\n",
       "      <th>e</th>\n",
       "      <th>f</th>\n",
       "      <th>g</th>\n",
       "      <th>h</th>\n",
       "      <th>i</th>\n",
       "      <th>j</th>\n",
       "    </tr>\n",
       "  </thead>\n",
       "  <tbody>\n",
       "    <tr>\n",
       "      <th>0</th>\n",
       "      <td>0.773956</td>\n",
       "      <td>0.438878</td>\n",
       "      <td>0.858598</td>\n",
       "      <td>0.697368</td>\n",
       "      <td>0.094177</td>\n",
       "      <td>0.975622</td>\n",
       "      <td>0.761140</td>\n",
       "      <td>0.786064</td>\n",
       "      <td>0.128114</td>\n",
       "      <td>0.450386</td>\n",
       "    </tr>\n",
       "    <tr>\n",
       "      <th>5</th>\n",
       "      <td>0.199908</td>\n",
       "      <td>0.007362</td>\n",
       "      <td>0.786924</td>\n",
       "      <td>0.664851</td>\n",
       "      <td>0.705165</td>\n",
       "      <td>0.780729</td>\n",
       "      <td>0.458916</td>\n",
       "      <td>0.568741</td>\n",
       "      <td>0.139797</td>\n",
       "      <td>0.114530</td>\n",
       "    </tr>\n",
       "    <tr>\n",
       "      <th>9</th>\n",
       "      <td>0.152312</td>\n",
       "      <td>0.696320</td>\n",
       "      <td>0.446156</td>\n",
       "      <td>0.381021</td>\n",
       "      <td>0.301512</td>\n",
       "      <td>0.630283</td>\n",
       "      <td>0.361813</td>\n",
       "      <td>0.087650</td>\n",
       "      <td>0.118006</td>\n",
       "      <td>0.961898</td>\n",
       "    </tr>\n",
       "  </tbody>\n",
       "</table>\n",
       "</div>"
      ],
      "text/plain": [
       "          a         b         c         d         e         f         g  \\\n",
       "0  0.773956  0.438878  0.858598  0.697368  0.094177  0.975622  0.761140   \n",
       "5  0.199908  0.007362  0.786924  0.664851  0.705165  0.780729  0.458916   \n",
       "9  0.152312  0.696320  0.446156  0.381021  0.301512  0.630283  0.361813   \n",
       "\n",
       "          h         i         j  \n",
       "0  0.786064  0.128114  0.450386  \n",
       "5  0.568741  0.139797  0.114530  \n",
       "9  0.087650  0.118006  0.961898  "
      ]
     },
     "execution_count": 107,
     "metadata": {},
     "output_type": "execute_result"
    }
   ],
   "source": [
    "X_test"
   ]
  },
  {
   "cell_type": "markdown",
   "id": "9ea0a169",
   "metadata": {},
   "source": [
    "### gropup by with index of original dataframe"
   ]
  },
  {
   "cell_type": "code",
   "execution_count": 1,
   "id": "e0a128a7",
   "metadata": {},
   "outputs": [],
   "source": [
    "import pandas as pd\n",
    "import numpy as np"
   ]
  },
  {
   "cell_type": "code",
   "execution_count": 3,
   "id": "83c476e1",
   "metadata": {},
   "outputs": [],
   "source": [
    "df = pd.DataFrame()\n",
    "df['num'] = list(range(100))\n",
    "df['num'] = df['num']*100\n",
    "df['Index'] = list(range(100))\n",
    "df['Group'] = ['a']*25 + ['b']*25 + ['c']*25 + ['d']*25 "
   ]
  },
  {
   "cell_type": "code",
   "execution_count": 5,
   "id": "e5e581ab",
   "metadata": {},
   "outputs": [],
   "source": [
    "def ind_dict(df):\n",
    "    ind_df = dict(zip(df['num'],df['Index']))\n",
    "    return ind_df"
   ]
  },
  {
   "cell_type": "code",
   "execution_count": 11,
   "id": "e6dd9788",
   "metadata": {},
   "outputs": [],
   "source": [
    "df_agg = df.groupby('Group').agg(num_min=pd.NamedAgg(column=\"num\", aggfunc=\"min\"),\n",
    "                    ind_Dict = pd.NamedAgg(column = 'num',aggfunc = lambda x : ind_dict(df.loc[x.index]))).reset_index()\n",
    "\n",
    "df_agg['Index'] = df_agg.apply(lambda row : row['ind_Dict'][row['num_min']],axis =1)\n",
    "df_agg = df_agg.drop(columns = ['ind_Dict'])"
   ]
  },
  {
   "cell_type": "code",
   "execution_count": 12,
   "id": "9a0f110a",
   "metadata": {},
   "outputs": [
    {
     "data": {
      "text/html": [
       "<div>\n",
       "<style scoped>\n",
       "    .dataframe tbody tr th:only-of-type {\n",
       "        vertical-align: middle;\n",
       "    }\n",
       "\n",
       "    .dataframe tbody tr th {\n",
       "        vertical-align: top;\n",
       "    }\n",
       "\n",
       "    .dataframe thead th {\n",
       "        text-align: right;\n",
       "    }\n",
       "</style>\n",
       "<table border=\"1\" class=\"dataframe\">\n",
       "  <thead>\n",
       "    <tr style=\"text-align: right;\">\n",
       "      <th></th>\n",
       "      <th>Group</th>\n",
       "      <th>num_min</th>\n",
       "      <th>Index</th>\n",
       "    </tr>\n",
       "  </thead>\n",
       "  <tbody>\n",
       "    <tr>\n",
       "      <th>0</th>\n",
       "      <td>a</td>\n",
       "      <td>0</td>\n",
       "      <td>0</td>\n",
       "    </tr>\n",
       "    <tr>\n",
       "      <th>1</th>\n",
       "      <td>b</td>\n",
       "      <td>2500</td>\n",
       "      <td>25</td>\n",
       "    </tr>\n",
       "    <tr>\n",
       "      <th>2</th>\n",
       "      <td>c</td>\n",
       "      <td>5000</td>\n",
       "      <td>50</td>\n",
       "    </tr>\n",
       "    <tr>\n",
       "      <th>3</th>\n",
       "      <td>d</td>\n",
       "      <td>7500</td>\n",
       "      <td>75</td>\n",
       "    </tr>\n",
       "  </tbody>\n",
       "</table>\n",
       "</div>"
      ],
      "text/plain": [
       "  Group  num_min  Index\n",
       "0     a        0      0\n",
       "1     b     2500     25\n",
       "2     c     5000     50\n",
       "3     d     7500     75"
      ]
     },
     "execution_count": 12,
     "metadata": {},
     "output_type": "execute_result"
    }
   ],
   "source": [
    "df_agg"
   ]
  },
  {
   "cell_type": "markdown",
   "id": "81b0486b",
   "metadata": {},
   "source": [
    "  ### Geometric Mean"
   ]
  },
  {
   "cell_type": "code",
   "execution_count": 15,
   "id": "00b9972f",
   "metadata": {},
   "outputs": [
    {
     "data": {
      "text/plain": [
       "array([[ 1.,  2.,  3.,  4.,  5.,  6.,  7.],\n",
       "       [ 1.,  2.,  3., nan,  5.,  6.,  7.],\n",
       "       [ 1.,  2.,  3.,  4., 15., nan,  7.],\n",
       "       [ 1.,  2.,  3.,  4.,  9., 16.,  7.],\n",
       "       [ 1.,  2.,  3., nan,  5.,  6.,  7.],\n",
       "       [ 1.,  2.,  3.,  4.,  5.,  6., 17.],\n",
       "       [ 1.,  2.,  3.,  4.,  5.,  6., nan]])"
      ]
     },
     "execution_count": 15,
     "metadata": {},
     "output_type": "execute_result"
    }
   ],
   "source": [
    "a1 = np.array([1,2,3,4,5,6,7])\n",
    "a2 = np.array([1,2,3,np.nan,5,6,7])\n",
    "a3 = np.array([1,2,3,4,15,np.nan,7])\n",
    "a4 = np.array([1,2,3,4,9,16,7])\n",
    "a5 = np.array([1,2,3,np.nan,5,6,7])\n",
    "a6 = np.array([1,2,3,4,5,6,17])\n",
    "a7 = np.array([1,2,3,4,5,6,np.nan])\n",
    "\n",
    "A = np.vstack((a1,a2,a3,a4,a5,a6,a7))\n",
    "A"
   ]
  },
  {
   "cell_type": "code",
   "execution_count": 20,
   "id": "f2d7cd53",
   "metadata": {},
   "outputs": [],
   "source": [
    "def Geometric_mean(arr):\n",
    "    gmean = np.exp(np.mean(np.log(arr),axis = 0,where = ~np.isnan(arr)))\n",
    "    return gmean"
   ]
  },
  {
   "cell_type": "code",
   "execution_count": 21,
   "id": "3d3daac4",
   "metadata": {},
   "outputs": [
    {
     "data": {
      "text/plain": [
       "array([1.        , 2.        , 3.        , 4.        , 6.36205888,\n",
       "       7.06555106, 8.11564772])"
      ]
     },
     "execution_count": 21,
     "metadata": {},
     "output_type": "execute_result"
    }
   ],
   "source": [
    "Geometric_mean(A)"
   ]
  },
  {
   "cell_type": "markdown",
   "id": "5833e0b3",
   "metadata": {},
   "source": [
    "### Performance improvement for Pandas Group By"
   ]
  },
  {
   "cell_type": "code",
   "execution_count": 3,
   "id": "49f5b46a",
   "metadata": {},
   "outputs": [],
   "source": [
    "a = 2000000\n",
    "b = 5\n",
    "c = int(a/b)\n",
    "\n",
    "df = pd.DataFrame()\n",
    "df['num'] = np.random.normal(0,2,a)\n",
    "df['Index'] = list(range(a))\n",
    "df['Group'] = np.array([[i]*b for i in range(c)]).flatten()\n"
   ]
  },
  {
   "cell_type": "code",
   "execution_count": 76,
   "id": "3a6d464b",
   "metadata": {},
   "outputs": [
    {
     "name": "stdout",
     "output_type": "stream",
     "text": [
      "time taken : 288302.72459983826\n"
     ]
    }
   ],
   "source": [
    "def ind_dict(df):\n",
    "    ind_df = dict(zip(df['num'],df['Index']))\n",
    "    return ind_df\n",
    "import time\n",
    "\n",
    "t0 = time.time()\n",
    "\n",
    "df_agg = df.groupby('Group').agg(Max_num_deviation=pd.NamedAgg(column=\"num\", aggfunc= lambda x :max(x) if  max(np.where(x>0,x,x*-1)) == max(x) else min(x)),\n",
    "                    ind_Dict = pd.NamedAgg(column = 'num',aggfunc = lambda x : ind_dict(df.loc[x.index]))).reset_index()\n",
    "\n",
    "df_agg['Index'] = df_agg.apply(lambda row : row['ind_Dict'][row['Max_num_deviation']],axis =1)\n",
    "df_agg = df_agg.drop(columns = ['ind_Dict'])\n",
    "\n",
    "t1 = time.time()\n",
    "\n",
    "print('time taken :',(t1-t0)*1000)\n",
    "\n"
   ]
  },
  {
   "cell_type": "code",
   "execution_count": 1,
   "id": "d559c989",
   "metadata": {},
   "outputs": [],
   "source": [
    "import numpy as np\n",
    "import pandas as pd\n",
    "import time\n",
    "\n",
    "a = 2000000\n",
    "b = 5\n",
    "c = int(a/b)\n",
    "df1 = pd.DataFrame()\n",
    "\n",
    "df1['num'] = np.random.normal(0,3,a)\n",
    "df1['group'] = np.array([[i]*b for i in range(c)]).flatten()\n",
    "df1['Index'] = list(range(a))"
   ]
  },
  {
   "cell_type": "code",
   "execution_count": 2,
   "id": "36647512",
   "metadata": {
    "scrolled": true
   },
   "outputs": [
    {
     "name": "stdout",
     "output_type": "stream",
     "text": [
      "time taken : 29395.222902297974\n"
     ]
    }
   ],
   "source": [
    "t0 = time.time()\n",
    "\n",
    "df1['abs_num'] = df1['num'].abs()\n",
    "\n",
    "# Get the index of the max deviation per group using `idxmax`\n",
    "df1_agg = df1.loc[df1.groupby('group')['abs_num'].idxmax(), ['group', 'num', 'Index']].rename(\n",
    "    columns={'num': 'Max_num_deviation'}\n",
    ")\n",
    "\n",
    "df1_agg.reset_index(drop=True, inplace=True)\n",
    "t1 = time.time()\n",
    "\n",
    "print('time taken :',(t1-t0)*1000)\n"
   ]
  },
  {
   "cell_type": "code",
   "execution_count": null,
   "id": "82b9ba44",
   "metadata": {},
   "outputs": [],
   "source": []
  }
 ],
 "metadata": {
  "kernelspec": {
   "display_name": "Python 3 (ipykernel)",
   "language": "python",
   "name": "python3"
  },
  "language_info": {
   "codemirror_mode": {
    "name": "ipython",
    "version": 3
   },
   "file_extension": ".py",
   "mimetype": "text/x-python",
   "name": "python",
   "nbconvert_exporter": "python",
   "pygments_lexer": "ipython3",
   "version": "3.9.12"
  }
 },
 "nbformat": 4,
 "nbformat_minor": 5
}
