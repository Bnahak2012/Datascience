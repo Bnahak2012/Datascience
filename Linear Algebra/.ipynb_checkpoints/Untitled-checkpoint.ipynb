{
 "cells": [
  {
   "cell_type": "markdown",
   "id": "a356751a",
   "metadata": {},
   "source": [
    "## Matrix Factorization\n",
    "## SVD"
   ]
  },
  {
   "cell_type": "code",
   "execution_count": 1,
   "id": "9f7ed87f",
   "metadata": {},
   "outputs": [
    {
     "name": "stdout",
     "output_type": "stream",
     "text": [
      "Original Matrix:\n",
      " [[1 0 0 0 2]\n",
      " [0 0 3 0 0]\n",
      " [4 0 0 5 0]\n",
      " [0 6 0 0 0]]\n",
      "Reconstructed Matrix:\n",
      " [[ 1.00000000e+00  0.00000000e+00  0.00000000e+00  4.84887635e-16\n",
      "   2.00000000e+00]\n",
      " [ 0.00000000e+00  0.00000000e+00  3.00000000e+00  0.00000000e+00\n",
      "   0.00000000e+00]\n",
      " [ 4.00000000e+00  0.00000000e+00  0.00000000e+00  5.00000000e+00\n",
      "  -6.05606821e-16]\n",
      " [-1.38683742e-15  6.00000000e+00  0.00000000e+00 -8.34665832e-16\n",
      "   6.93418708e-16]]\n"
     ]
    }
   ],
   "source": [
    "import numpy as np\n",
    "\n",
    "# Original matrix\n",
    "A = np.array([[1, 0, 0, 0, 2],\n",
    "              [0, 0, 3, 0, 0],\n",
    "              [4, 0, 0, 5, 0],\n",
    "              [0, 6, 0, 0, 0]])\n",
    "\n",
    "# Perform SVD\n",
    "U, S, VT = np.linalg.svd(A, full_matrices=False)\n",
    "\n",
    "# Reconstruct the matrix\n",
    "S = np.diag(S)\n",
    "A_approx = np.dot(U, np.dot(S, VT))\n",
    "\n",
    "print(\"Original Matrix:\\n\", A)\n",
    "print(\"Reconstructed Matrix:\\n\", A_approx)\n"
   ]
  },
  {
   "cell_type": "code",
   "execution_count": 4,
   "id": "89684601",
   "metadata": {},
   "outputs": [
    {
     "data": {
      "text/plain": [
       "array([[ 1.,  0.,  0.,  0.,  2.],\n",
       "       [ 0.,  0.,  3.,  0.,  0.],\n",
       "       [ 4.,  0.,  0.,  5., -0.],\n",
       "       [-0.,  6.,  0., -0.,  0.]])"
      ]
     },
     "execution_count": 4,
     "metadata": {},
     "output_type": "execute_result"
    }
   ],
   "source": [
    "np.round(A_approx,3)"
   ]
  },
  {
   "cell_type": "code",
   "execution_count": 5,
   "id": "6fe19a65",
   "metadata": {},
   "outputs": [
    {
     "data": {
      "text/plain": [
       "(array([[ 0.10911677,  0.        ,  0.        , -0.99402894],\n",
       "        [ 0.        ,  0.        ,  1.        ,  0.        ],\n",
       "        [ 0.99402894,  0.        ,  0.        ,  0.10911677],\n",
       "        [ 0.        ,  1.        ,  0.        ,  0.        ]]),\n",
       " array([[6.43732001, 0.        , 0.        , 0.        ],\n",
       "        [0.        , 6.        , 0.        , 0.        ],\n",
       "        [0.        , 0.        , 3.        , 0.        ],\n",
       "        [0.        , 0.        , 0.        , 2.13562897]]),\n",
       " array([[ 6.34616971e-01,  0.00000000e+00,  0.00000000e+00,\n",
       "          7.72082898e-01,  3.39013042e-02],\n",
       "        [-2.31139569e-16,  1.00000000e+00,  0.00000000e+00,\n",
       "         -1.39110972e-16,  1.15569785e-16],\n",
       "        [ 0.00000000e+00,  0.00000000e+00,  1.00000000e+00,\n",
       "          0.00000000e+00,  0.00000000e+00],\n",
       "        [-2.61076179e-01,  0.00000000e+00,  0.00000000e+00,\n",
       "          2.55467531e-01, -9.30900408e-01]]))"
      ]
     },
     "execution_count": 5,
     "metadata": {},
     "output_type": "execute_result"
    }
   ],
   "source": [
    "U, S , VT"
   ]
  },
  {
   "cell_type": "code",
   "execution_count": 6,
   "id": "5dddf10e",
   "metadata": {},
   "outputs": [
    {
     "data": {
      "text/plain": [
       "((4, 4), (4, 4), (4, 5))"
      ]
     },
     "execution_count": 6,
     "metadata": {},
     "output_type": "execute_result"
    }
   ],
   "source": [
    "U.shape , S.shape , VT.shape"
   ]
  },
  {
   "cell_type": "markdown",
   "id": "012d9e74",
   "metadata": {},
   "source": [
    "Imagine a user-movie rating matrix where rows represent users and columns represent movies. The values in the matrix are ratings given by users to movies, with many entries missing.\n",
    "\n",
    "Matrix Factorization:\n",
    "\n",
    "𝑅≈𝑃𝑄𝑇\n",
    "R≈PQ T\n",
    " \n",
    "\n",
    "Where:\n",
    "\n",
    "𝑅 R is the user-movie rating matrix.\n",
    "𝑃 P is the user-feature matrix (latent factors for users).\n",
    "𝑄 Q is the movie-feature matrix (latent factors for movies)."
   ]
  },
  {
   "cell_type": "code",
   "execution_count": 7,
   "id": "125dd88e",
   "metadata": {},
   "outputs": [
    {
     "name": "stdout",
     "output_type": "stream",
     "text": [
      "Original Ratings:\n",
      " [[5 3 0 1]\n",
      " [4 0 0 1]\n",
      " [1 1 0 5]\n",
      " [1 0 0 4]\n",
      " [0 1 5 4]]\n",
      "Predicted Ratings:\n",
      " [[5.26 1.99 0.   1.46]\n",
      " [3.5  1.33 0.   0.97]\n",
      " [1.31 0.94 1.95 3.95]\n",
      " [0.98 0.72 1.53 3.08]\n",
      " [0.   0.65 2.84 5.22]]\n"
     ]
    }
   ],
   "source": [
    "import numpy as np\n",
    "from sklearn.decomposition import NMF\n",
    "\n",
    "# User-movie rating matrix (0 indicates missing rating)\n",
    "R = np.array([[5, 3, 0, 1],\n",
    "              [4, 0, 0, 1],\n",
    "              [1, 1, 0, 5],\n",
    "              [1, 0, 0, 4],\n",
    "              [0, 1, 5, 4]])\n",
    "\n",
    "model = NMF(n_components=2, init='random', random_state=0)\n",
    "P = model.fit_transform(R)\n",
    "Q = model.components_\n",
    "\n",
    "# Predicted ratings\n",
    "R_pred = np.dot(P, Q)\n",
    "\n",
    "print(\"Original Ratings:\\n\", R)\n",
    "print(\"Predicted Ratings:\\n\", np.round(R_pred, 2))\n"
   ]
  },
  {
   "cell_type": "code",
   "execution_count": null,
   "id": "6205dcdb",
   "metadata": {},
   "outputs": [],
   "source": []
  },
  {
   "cell_type": "markdown",
   "id": "6462f505",
   "metadata": {},
   "source": [
    "2. Data Compression\n",
    "Example: Reducing the dimensionality of data while preserving important information.\n",
    "\n",
    "Matrix Factorization:\n",
    "\n",
    "A≈UΣV T\n",
    " \n",
    "\n",
    "Where:\n",
    "\n",
    "A is the original data matrix.\n",
    "U, Σ, and VT are the decomposed matrices from Singular Value Decomposition (SVD)."
   ]
  },
  {
   "cell_type": "code",
   "execution_count": 8,
   "id": "4c1dcb60",
   "metadata": {},
   "outputs": [
    {
     "name": "stdout",
     "output_type": "stream",
     "text": [
      "Original Shape: (100, 100)\n",
      "Compressed Shape: (100, 10) (10, 10) (10, 100)\n"
     ]
    }
   ],
   "source": [
    "import numpy as np\n",
    "\n",
    "# Original matrix\n",
    "A = np.random.random((100, 100))\n",
    "\n",
    "# Perform SVD\n",
    "U, S, VT = np.linalg.svd(A, full_matrices=False)\n",
    "\n",
    "# Retain only the top k singular values\n",
    "k = 10\n",
    "U_k = U[:, :k]\n",
    "S_k = np.diag(S[:k])\n",
    "VT_k = VT[:k, :]\n",
    "\n",
    "# Reconstructed matrix\n",
    "A_approx = np.dot(U_k, np.dot(S_k, VT_k))\n",
    "\n",
    "print(\"Original Shape:\", A.shape)\n",
    "print(\"Compressed Shape:\", U_k.shape, S_k.shape, VT_k.shape)\n"
   ]
  },
  {
   "cell_type": "markdown",
   "id": "dcea5b7f",
   "metadata": {},
   "source": [
    "3. Image Processing\n",
    "Example: Compressing an image using Singular Value Decomposition (SVD).\n",
    "\n",
    "Matrix Factorization:\n",
    "\n",
    "A≈UΣV T\n",
    " \n",
    "\n",
    "Where:\n",
    "\n",
    "A is the grayscale image matrix.\n",
    "U, Σ, and V T  are the decomposed matrices from SVD."
   ]
  },
  {
   "cell_type": "code",
   "execution_count": 10,
   "id": "65b236e3",
   "metadata": {},
   "outputs": [],
   "source": [
    "# import numpy as np\n",
    "# import cv2\n",
    "# import matplotlib.pyplot as plt\n",
    "\n",
    "# # Load image and convert to grayscale\n",
    "# image = cv2.imread('example.jpg', cv2.IMREAD_GRAYSCALE)\n",
    "\n",
    "# # Perform SVD\n",
    "# U, S, VT = np.linalg.svd(image, full_matrices=False)\n",
    "\n",
    "# # Retain only the top k singular values\n",
    "# k = 50\n",
    "# U_k = U[:, :k]\n",
    "# S_k = np.diag(S[:k])\n",
    "# VT_k = VT[:k, :]\n",
    "\n",
    "# # Reconstructed image\n",
    "# image_approx = np.dot(U_k, np.dot(S_k, VT_k))\n",
    "\n",
    "# # Display original and compressed image\n",
    "# plt.figure(figsize=(10, 5))\n",
    "# plt.subplot(1, 2, 1)\n",
    "# plt.title('Original Image')\n",
    "# plt.imshow(image, cmap='gray')\n",
    "\n",
    "# plt.subplot(1, 2, 2)\n",
    "# plt.title('Compressed Image')\n",
    "# plt.imshow(image_approx, cmap='gray')\n",
    "# plt.show()\n"
   ]
  },
  {
   "cell_type": "markdown",
   "id": "e42befad",
   "metadata": {},
   "source": [
    "4. Topic Modeling\n",
    "Example: Extracting topics from a collection of documents.\n",
    "\n",
    "Matrix Factorization:\n",
    "\n",
    "X≈WH\n",
    "\n",
    "Where:\n",
    "\n",
    "X is the term-document matrix.\n",
    "𝑊 is the term-topic matrix.\n",
    "𝐻  is the topic-document matrix."
   ]
  },
  {
   "cell_type": "code",
   "execution_count": 11,
   "id": "73ce3278",
   "metadata": {},
   "outputs": [
    {
     "name": "stdout",
     "output_type": "stream",
     "text": [
      "Topic 0:\n",
      "mathematics science fundamental enjoy books\n",
      "Topic 1:\n",
      "technology interconnected science future bright\n"
     ]
    }
   ],
   "source": [
    "import numpy as np\n",
    "from sklearn.feature_extraction.text import TfidfVectorizer\n",
    "from sklearn.decomposition import NMF\n",
    "\n",
    "# Sample documents\n",
    "documents = [\n",
    "    \"I love reading about science and technology.\",\n",
    "    \"Mathematics is a fundamental part of science.\",\n",
    "    \"The future of technology is bright.\",\n",
    "    \"I enjoy reading books on mathematics and science.\",\n",
    "    \"Science and technology are interconnected.\"\n",
    "]\n",
    "\n",
    "# TF-IDF Vectorization\n",
    "vectorizer = TfidfVectorizer(stop_words='english')\n",
    "X = vectorizer.fit_transform(documents)\n",
    "\n",
    "# Perform NMF\n",
    "nmf = NMF(n_components=2, random_state=0)\n",
    "W = nmf.fit_transform(X)\n",
    "H = nmf.components_\n",
    "\n",
    "# Display topics\n",
    "terms = vectorizer.get_feature_names_out()\n",
    "for i, topic in enumerate(H):\n",
    "    print(f\"Topic {i}:\")\n",
    "    print(\" \".join([terms[i] for i in topic.argsort()[:-6:-1]]))\n"
   ]
  },
  {
   "cell_type": "code",
   "execution_count": null,
   "id": "27d5349e",
   "metadata": {},
   "outputs": [],
   "source": []
  }
 ],
 "metadata": {
  "kernelspec": {
   "display_name": "Python 3 (ipykernel)",
   "language": "python",
   "name": "python3"
  },
  "language_info": {
   "codemirror_mode": {
    "name": "ipython",
    "version": 3
   },
   "file_extension": ".py",
   "mimetype": "text/x-python",
   "name": "python",
   "nbconvert_exporter": "python",
   "pygments_lexer": "ipython3",
   "version": "3.9.12"
  }
 },
 "nbformat": 4,
 "nbformat_minor": 5
}
